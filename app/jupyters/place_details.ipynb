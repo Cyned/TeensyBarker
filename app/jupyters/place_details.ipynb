{
 "cells": [
  {
   "cell_type": "code",
   "execution_count": 1,
   "metadata": {},
   "outputs": [],
   "source": [
    "import os\n",
    "\n",
    "import pandas as pd\n",
    "import numpy as np\n",
    "\n",
    "import warnings\n",
    "warnings.filterwarnings('ignore')"
   ]
  },
  {
   "cell_type": "code",
   "execution_count": 2,
   "metadata": {},
   "outputs": [
    {
     "name": "stdout",
     "output_type": "stream",
     "text": [
      "(1, 29)\n",
      "Index(['address_components', 'adr_address', 'formatted_address',\n",
      "       'geometry_location_lat', 'geometry_location_lng',\n",
      "       'geometry_viewport_northeast_lat', 'geometry_viewport_northeast_lng',\n",
      "       'geometry_viewport_southwest_lat', 'geometry_viewport_southwest_lng',\n",
      "       'icon', 'id', 'name', 'opening_hours_open_now', 'opening_hours_periods',\n",
      "       'opening_hours_weekday_text', 'photos', 'place_id',\n",
      "       'plus_code_compound_code', 'plus_code_global_code', 'price_level',\n",
      "       'rating', 'reference', 'reviews', 'scope', 'types', 'url', 'utc_offset',\n",
      "       'vicinity', 'website'],\n",
      "      dtype='object')\n"
     ]
    },
    {
     "data": {
      "text/html": [
       "<div>\n",
       "<style scoped>\n",
       "    .dataframe tbody tr th:only-of-type {\n",
       "        vertical-align: middle;\n",
       "    }\n",
       "\n",
       "    .dataframe tbody tr th {\n",
       "        vertical-align: top;\n",
       "    }\n",
       "\n",
       "    .dataframe thead th {\n",
       "        text-align: right;\n",
       "    }\n",
       "</style>\n",
       "<table border=\"1\" class=\"dataframe\">\n",
       "  <thead>\n",
       "    <tr style=\"text-align: right;\">\n",
       "      <th></th>\n",
       "      <th>address_components</th>\n",
       "      <th>adr_address</th>\n",
       "      <th>formatted_address</th>\n",
       "      <th>geometry_location_lat</th>\n",
       "      <th>geometry_location_lng</th>\n",
       "      <th>geometry_viewport_northeast_lat</th>\n",
       "      <th>geometry_viewport_northeast_lng</th>\n",
       "      <th>geometry_viewport_southwest_lat</th>\n",
       "      <th>geometry_viewport_southwest_lng</th>\n",
       "      <th>icon</th>\n",
       "      <th>...</th>\n",
       "      <th>price_level</th>\n",
       "      <th>rating</th>\n",
       "      <th>reference</th>\n",
       "      <th>reviews</th>\n",
       "      <th>scope</th>\n",
       "      <th>types</th>\n",
       "      <th>url</th>\n",
       "      <th>utc_offset</th>\n",
       "      <th>vicinity</th>\n",
       "      <th>website</th>\n",
       "    </tr>\n",
       "  </thead>\n",
       "  <tbody>\n",
       "    <tr>\n",
       "      <th>0</th>\n",
       "      <td>[</td>\n",
       "      <td>&lt;span class=\"locality\"&gt;Kyiv&lt;/span&gt;, &lt;span clas...</td>\n",
       "      <td>Kyiv, Ukraine, 02000</td>\n",
       "      <td>50.448074</td>\n",
       "      <td>30.458457</td>\n",
       "      <td>50.449423</td>\n",
       "      <td>30.459806</td>\n",
       "      <td>50.446725</td>\n",
       "      <td>30.457109</td>\n",
       "      <td>https://maps.gstatic.com/mapfiles/place_api/ic...</td>\n",
       "      <td>...</td>\n",
       "      <td>1</td>\n",
       "      <td>3.2</td>\n",
       "      <td>ChIJDdaNQp3O1EARZVg42RlNya0</td>\n",
       "      <td>[</td>\n",
       "      <td>GOOGLE</td>\n",
       "      <td>[</td>\n",
       "      <td>https://maps.google.com/?cid=12522625012294244453</td>\n",
       "      <td>120</td>\n",
       "      <td>Kyiv</td>\n",
       "      <td>http://relax.kpi.ua/csh/</td>\n",
       "    </tr>\n",
       "  </tbody>\n",
       "</table>\n",
       "<p>1 rows × 29 columns</p>\n",
       "</div>"
      ],
      "text/plain": [
       "  address_components                                        adr_address  \\\n",
       "0                  [  <span class=\"locality\">Kyiv</span>, <span clas...   \n",
       "\n",
       "      formatted_address  geometry_location_lat  geometry_location_lng  \\\n",
       "0  Kyiv, Ukraine, 02000              50.448074              30.458457   \n",
       "\n",
       "   geometry_viewport_northeast_lat  geometry_viewport_northeast_lng  \\\n",
       "0                        50.449423                        30.459806   \n",
       "\n",
       "   geometry_viewport_southwest_lat  geometry_viewport_southwest_lng  \\\n",
       "0                        50.446725                        30.457109   \n",
       "\n",
       "                                                icon  \\\n",
       "0  https://maps.gstatic.com/mapfiles/place_api/ic...   \n",
       "\n",
       "             ...            price_level rating                    reference  \\\n",
       "0            ...                      1    3.2  ChIJDdaNQp3O1EARZVg42RlNya0   \n",
       "\n",
       "  reviews   scope types                                                url  \\\n",
       "0       [  GOOGLE     [  https://maps.google.com/?cid=12522625012294244453   \n",
       "\n",
       "  utc_offset vicinity                   website  \n",
       "0        120     Kyiv  http://relax.kpi.ua/csh/  \n",
       "\n",
       "[1 rows x 29 columns]"
      ]
     },
     "execution_count": 2,
     "metadata": {},
     "output_type": "execute_result"
    }
   ],
   "source": [
    "DATA_DIR = '../../data/'\n",
    "\n",
    "data = pd.read_csv(os.path.join(DATA_DIR, 'place_details_1.csv'))\n",
    "print(data.shape)\n",
    "print(data.columns)\n",
    "data"
   ]
  },
  {
   "cell_type": "code",
   "execution_count": 6,
   "metadata": {},
   "outputs": [
    {
     "data": {
      "text/plain": [
       "0    Kyiv\n",
       "Name: vicinity, dtype: object"
      ]
     },
     "execution_count": 6,
     "metadata": {},
     "output_type": "execute_result"
    }
   ],
   "source": [
    "data.vicinity"
   ]
  },
  {
   "cell_type": "code",
   "execution_count": null,
   "metadata": {},
   "outputs": [],
   "source": []
  },
  {
   "cell_type": "code",
   "execution_count": null,
   "metadata": {},
   "outputs": [],
   "source": []
  },
  {
   "cell_type": "code",
   "execution_count": null,
   "metadata": {},
   "outputs": [],
   "source": []
  },
  {
   "cell_type": "code",
   "execution_count": null,
   "metadata": {},
   "outputs": [],
   "source": []
  }
 ],
 "metadata": {
  "kernelspec": {
   "display_name": "Python 3",
   "language": "python",
   "name": "python3"
  },
  "language_info": {
   "codemirror_mode": {
    "name": "ipython",
    "version": 3
   },
   "file_extension": ".py",
   "mimetype": "text/x-python",
   "name": "python",
   "nbconvert_exporter": "python",
   "pygments_lexer": "ipython3",
   "version": "3.5.5"
  }
 },
 "nbformat": 4,
 "nbformat_minor": 2
}
