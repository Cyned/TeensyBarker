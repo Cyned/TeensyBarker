{
 "cells": [
  {
   "cell_type": "code",
   "execution_count": 1,
   "metadata": {},
   "outputs": [],
   "source": [
    "import os\n",
    "import json\n",
    "import re\n",
    "from bs4 import BeautifulSoup\n",
    "\n",
    "\n",
    "import pandas as pd\n",
    "import numpy as np\n",
    "\n",
    "from collections import namedtuple\n",
    "\n",
    "import warnings\n",
    "warnings.filterwarnings('ignore')"
   ]
  },
  {
   "cell_type": "code",
   "execution_count": 2,
   "metadata": {},
   "outputs": [
    {
     "name": "stdout",
     "output_type": "stream",
     "text": [
      "(1, 31)\n",
      "Index(['vicinity', 'formatted_address', 'id', 'international_phone_number',\n",
      "       'adr_address', 'url', 'photos', 'icon', 'name', 'types', 'rating',\n",
      "       'utc_offset', 'geometry_viewport_southwest_lat', 'reviews',\n",
      "       'price_level', 'geometry_viewport_northeast_lat', 'scope', 'place_id',\n",
      "       'plus_code_global_code', 'formatted_phone_number',\n",
      "       'plus_code_compound_code', 'geometry_location_lng',\n",
      "       'geometry_viewport_northeast_lng', 'opening_hours_weekday_text',\n",
      "       'website', 'geometry_location_lat', 'opening_hours_open_now',\n",
      "       'address_components', 'geometry_viewport_southwest_lng', 'reference',\n",
      "       'opening_hours_periods'],\n",
      "      dtype='object')\n"
     ]
    },
    {
     "data": {
      "text/html": [
       "<div>\n",
       "<style scoped>\n",
       "    .dataframe tbody tr th:only-of-type {\n",
       "        vertical-align: middle;\n",
       "    }\n",
       "\n",
       "    .dataframe tbody tr th {\n",
       "        vertical-align: top;\n",
       "    }\n",
       "\n",
       "    .dataframe thead th {\n",
       "        text-align: right;\n",
       "    }\n",
       "</style>\n",
       "<table border=\"1\" class=\"dataframe\">\n",
       "  <thead>\n",
       "    <tr style=\"text-align: right;\">\n",
       "      <th></th>\n",
       "      <th>vicinity</th>\n",
       "      <th>formatted_address</th>\n",
       "      <th>id</th>\n",
       "      <th>international_phone_number</th>\n",
       "      <th>adr_address</th>\n",
       "      <th>url</th>\n",
       "      <th>photos</th>\n",
       "      <th>icon</th>\n",
       "      <th>name</th>\n",
       "      <th>types</th>\n",
       "      <th>...</th>\n",
       "      <th>geometry_location_lng</th>\n",
       "      <th>geometry_viewport_northeast_lng</th>\n",
       "      <th>opening_hours_weekday_text</th>\n",
       "      <th>website</th>\n",
       "      <th>geometry_location_lat</th>\n",
       "      <th>opening_hours_open_now</th>\n",
       "      <th>address_components</th>\n",
       "      <th>geometry_viewport_southwest_lng</th>\n",
       "      <th>reference</th>\n",
       "      <th>opening_hours_periods</th>\n",
       "    </tr>\n",
       "  </thead>\n",
       "  <tbody>\n",
       "    <tr>\n",
       "      <th>0</th>\n",
       "      <td>['Vatslava Havela Boulevard, 9В, Kyiv']</td>\n",
       "      <td>['Vatslava Havela Boulevard, 9В, Kyiv, Ukraine...</td>\n",
       "      <td>['24ef24ecd5d9911c1972e8aa43429541ad0f2f70']</td>\n",
       "      <td>['+380 44 300 0330']</td>\n",
       "      <td>['&lt;span class=\"street-address\"&gt;Vatslava Havela...</td>\n",
       "      <td>['https://maps.google.com/?cid=161885582897466...</td>\n",
       "      <td>['[{\\'height\\': 2736, \\'html_attributions\\': [...</td>\n",
       "      <td>['https://maps.gstatic.com/mapfiles/place_api/...</td>\n",
       "      <td>['Orly Park']</td>\n",
       "      <td>[\"['restaurant', 'point_of_interest', 'food', ...</td>\n",
       "      <td>...</td>\n",
       "      <td>[30.4265211]</td>\n",
       "      <td>[30.42900149999999]</td>\n",
       "      <td>[\"['Monday: Open 24 hours', 'Tuesday: Open 24 ...</td>\n",
       "      <td>['http://orlypark.com.ua/']</td>\n",
       "      <td>[50.4440215]</td>\n",
       "      <td>[True]</td>\n",
       "      <td>['[{\\'long_name\\': \\'9В\\', \\'short_name\\': \\'9...</td>\n",
       "      <td>[30.42499190000001]</td>\n",
       "      <td>['ChIJBXnk-RbM1EARU2oObv5PqeA']</td>\n",
       "      <td>[\"[{'open': {'day': 0, 'time': '0000'}}]\"]</td>\n",
       "    </tr>\n",
       "  </tbody>\n",
       "</table>\n",
       "<p>1 rows × 31 columns</p>\n",
       "</div>"
      ],
      "text/plain": [
       "                                  vicinity  \\\n",
       "0  ['Vatslava Havela Boulevard, 9В, Kyiv']   \n",
       "\n",
       "                                   formatted_address  \\\n",
       "0  ['Vatslava Havela Boulevard, 9В, Kyiv, Ukraine...   \n",
       "\n",
       "                                             id international_phone_number  \\\n",
       "0  ['24ef24ecd5d9911c1972e8aa43429541ad0f2f70']       ['+380 44 300 0330']   \n",
       "\n",
       "                                         adr_address  \\\n",
       "0  ['<span class=\"street-address\">Vatslava Havela...   \n",
       "\n",
       "                                                 url  \\\n",
       "0  ['https://maps.google.com/?cid=161885582897466...   \n",
       "\n",
       "                                              photos  \\\n",
       "0  ['[{\\'height\\': 2736, \\'html_attributions\\': [...   \n",
       "\n",
       "                                                icon           name  \\\n",
       "0  ['https://maps.gstatic.com/mapfiles/place_api/...  ['Orly Park']   \n",
       "\n",
       "                                               types  \\\n",
       "0  [\"['restaurant', 'point_of_interest', 'food', ...   \n",
       "\n",
       "                      ...                     geometry_location_lng  \\\n",
       "0                     ...                              [30.4265211]   \n",
       "\n",
       "  geometry_viewport_northeast_lng  \\\n",
       "0             [30.42900149999999]   \n",
       "\n",
       "                          opening_hours_weekday_text  \\\n",
       "0  [\"['Monday: Open 24 hours', 'Tuesday: Open 24 ...   \n",
       "\n",
       "                       website geometry_location_lat opening_hours_open_now  \\\n",
       "0  ['http://orlypark.com.ua/']          [50.4440215]                 [True]   \n",
       "\n",
       "                                  address_components  \\\n",
       "0  ['[{\\'long_name\\': \\'9В\\', \\'short_name\\': \\'9...   \n",
       "\n",
       "  geometry_viewport_southwest_lng                        reference  \\\n",
       "0             [30.42499190000001]  ['ChIJBXnk-RbM1EARU2oObv5PqeA']   \n",
       "\n",
       "                        opening_hours_periods  \n",
       "0  [\"[{'open': {'day': 0, 'time': '0000'}}]\"]  \n",
       "\n",
       "[1 rows x 31 columns]"
      ]
     },
     "execution_count": 2,
     "metadata": {},
     "output_type": "execute_result"
    }
   ],
   "source": [
    "DATA_DIR = '../../data/'\n",
    "\n",
    "data = pd.read_csv(os.path.join(DATA_DIR, 'places.csv'))\n",
    "print(data.shape)\n",
    "print(data.columns)\n",
    "data"
   ]
  },
  {
   "cell_type": "code",
   "execution_count": 4,
   "metadata": {},
   "outputs": [
    {
     "data": {
      "text/html": [
       "<div>\n",
       "<style scoped>\n",
       "    .dataframe tbody tr th:only-of-type {\n",
       "        vertical-align: middle;\n",
       "    }\n",
       "\n",
       "    .dataframe tbody tr th {\n",
       "        vertical-align: top;\n",
       "    }\n",
       "\n",
       "    .dataframe thead th {\n",
       "        text-align: right;\n",
       "    }\n",
       "</style>\n",
       "<table border=\"1\" class=\"dataframe\">\n",
       "  <thead>\n",
       "    <tr style=\"text-align: right;\">\n",
       "      <th></th>\n",
       "      <th>geometry_location_lng</th>\n",
       "      <th>geometry_viewport_southwest_lat</th>\n",
       "      <th>geometry_viewport_northeast_lng</th>\n",
       "      <th>geometry_location_lat</th>\n",
       "      <th>geometry_viewport_southwest_lng</th>\n",
       "      <th>geometry_viewport_northeast_lat</th>\n",
       "    </tr>\n",
       "  </thead>\n",
       "  <tbody>\n",
       "    <tr>\n",
       "      <th>0</th>\n",
       "      <td>[30.4265211]</td>\n",
       "      <td>[50.4429178697085]</td>\n",
       "      <td>[30.42900149999999]</td>\n",
       "      <td>[50.4440215]</td>\n",
       "      <td>[30.42499190000001]</td>\n",
       "      <td>[50.44561583029149]</td>\n",
       "    </tr>\n",
       "  </tbody>\n",
       "</table>\n",
       "</div>"
      ],
      "text/plain": [
       "  geometry_location_lng geometry_viewport_southwest_lat  \\\n",
       "0          [30.4265211]              [50.4429178697085]   \n",
       "\n",
       "  geometry_viewport_northeast_lng geometry_location_lat  \\\n",
       "0             [30.42900149999999]          [50.4440215]   \n",
       "\n",
       "  geometry_viewport_southwest_lng geometry_viewport_northeast_lat  \n",
       "0             [30.42499190000001]             [50.44561583029149]  "
      ]
     },
     "execution_count": 4,
     "metadata": {},
     "output_type": "execute_result"
    }
   ],
   "source": [
    "data[[\n",
    "    'geometry_location_lng', 'geometry_viewport_southwest_lat',\n",
    "    'geometry_viewport_northeast_lng', 'geometry_location_lat',\n",
    "    'geometry_viewport_southwest_lng', 'geometry_viewport_northeast_lat',\n",
    "]]"
   ]
  },
  {
   "cell_type": "code",
   "execution_count": 11,
   "metadata": {},
   "outputs": [
    {
     "data": {
      "text/plain": [
       "\"['ChIJBXnk-RbM1EARU2oObv5PqeA']\""
      ]
     },
     "execution_count": 11,
     "metadata": {},
     "output_type": "execute_result"
    }
   ],
   "source": [
    "data['reference'].values[0]"
   ]
  },
  {
   "cell_type": "markdown",
   "metadata": {},
   "source": [
    "# Transfrom df to DB_Places"
   ]
  },
  {
   "cell_type": "code",
   "execution_count": 87,
   "metadata": {},
   "outputs": [],
   "source": [
    "get_value = lambda x: x if type(x) is not list else x[0]\n",
    "\n",
    "def get_address(serie):\n",
    "    addresses = np.array([None] * len(serie))\n",
    "    cities = np.array([None] * len(serie))\n",
    "    for index, row in enumerate(serie):\n",
    "        soup = BeautifulSoup(row)\n",
    "        addresses[index] = soup.find('span', class_='street-address').text\n",
    "        cities[index] = soup.find('span', class_='locality').text\n",
    "    return addresses, cities\n"
   ]
  },
  {
   "cell_type": "code",
   "execution_count": 86,
   "metadata": {},
   "outputs": [
    {
     "data": {
      "text/plain": [
       "0    ['ChIJBXnk-RbM1EARU2oObv5PqeA']\n",
       "Name: reference, dtype: object"
      ]
     },
     "execution_count": 86,
     "metadata": {},
     "output_type": "execute_result"
    }
   ],
   "source": [
    "data['reference'].apply(get_value)"
   ]
  },
  {
   "cell_type": "code",
   "execution_count": 64,
   "metadata": {},
   "outputs": [],
   "source": [
    "results = dict()\n",
    "results['name'] = data['name'].apply(get_value)\n",
    "results['website'] = data['website'].apply(get_value)\n",
    "results['place_id'] = data['reference'].apply(get_value)\n",
    "results['loc_x'] = data['geometry_location_lng'].apply(get_value)\n",
    "results['loc_y'] = data['geometry_location_lat'].apply(get_value)\n",
    "results['phone'] = data['international_phone_number'].apply(get_value)\n",
    "\n",
    "results['address'], results['city'] = get_address(data['adr_address'])"
   ]
  },
  {
   "cell_type": "code",
   "execution_count": 74,
   "metadata": {},
   "outputs": [
    {
     "name": "stdout",
     "output_type": "stream",
     "text": [
      "place_id:\t0    ['ChIJBXnk-RbM1EARU2oObv5PqeA']\n",
      "Name: reference, dtype: object\n",
      "address:\t['Vatslava Havela Boulevard, 9В']\n",
      "phone:\t0    ['+380 44 300 0330']\n",
      "Name: international_phone_number, dtype: object\n",
      "loc_x:\t0    [30.4265211]\n",
      "Name: geometry_location_lng, dtype: object\n",
      "name:\t0    ['Orly Park']\n",
      "Name: name, dtype: object\n",
      "loc_y:\t0    [50.4440215]\n",
      "Name: geometry_location_lat, dtype: object\n",
      "website:\t0    ['http://orlypark.com.ua/']\n",
      "Name: website, dtype: object\n",
      "city:\t['Kyiv']\n"
     ]
    }
   ],
   "source": [
    "for k, v in results.items():\n",
    "    print('{k}:\\t{v}'.format(k=k, v=v))"
   ]
  },
  {
   "cell_type": "code",
   "execution_count": 88,
   "metadata": {},
   "outputs": [
    {
     "data": {
      "text/html": [
       "<div>\n",
       "<style scoped>\n",
       "    .dataframe tbody tr th:only-of-type {\n",
       "        vertical-align: middle;\n",
       "    }\n",
       "\n",
       "    .dataframe tbody tr th {\n",
       "        vertical-align: top;\n",
       "    }\n",
       "\n",
       "    .dataframe thead th {\n",
       "        text-align: right;\n",
       "    }\n",
       "</style>\n",
       "<table border=\"1\" class=\"dataframe\">\n",
       "  <thead>\n",
       "    <tr style=\"text-align: right;\">\n",
       "      <th></th>\n",
       "      <th>address</th>\n",
       "      <th>city</th>\n",
       "      <th>loc_x</th>\n",
       "      <th>loc_y</th>\n",
       "      <th>name</th>\n",
       "      <th>phone</th>\n",
       "      <th>place_id</th>\n",
       "      <th>website</th>\n",
       "    </tr>\n",
       "  </thead>\n",
       "  <tbody>\n",
       "    <tr>\n",
       "      <th>0</th>\n",
       "      <td>Vatslava Havela Boulevard, 9В</td>\n",
       "      <td>Kyiv</td>\n",
       "      <td>[30.4265211]</td>\n",
       "      <td>[50.4440215]</td>\n",
       "      <td>['Orly Park']</td>\n",
       "      <td>['+380 44 300 0330']</td>\n",
       "      <td>['ChIJBXnk-RbM1EARU2oObv5PqeA']</td>\n",
       "      <td>['http://orlypark.com.ua/']</td>\n",
       "    </tr>\n",
       "  </tbody>\n",
       "</table>\n",
       "</div>"
      ],
      "text/plain": [
       "                         address  city         loc_x         loc_y  \\\n",
       "0  Vatslava Havela Boulevard, 9В  Kyiv  [30.4265211]  [50.4440215]   \n",
       "\n",
       "            name                 phone                         place_id  \\\n",
       "0  ['Orly Park']  ['+380 44 300 0330']  ['ChIJBXnk-RbM1EARU2oObv5PqeA']   \n",
       "\n",
       "                       website  \n",
       "0  ['http://orlypark.com.ua/']  "
      ]
     },
     "execution_count": 88,
     "metadata": {},
     "output_type": "execute_result"
    }
   ],
   "source": [
    "pd.DataFrame(results)"
   ]
  },
  {
   "cell_type": "code",
   "execution_count": 98,
   "metadata": {},
   "outputs": [
    {
     "data": {
      "text/plain": [
       "'[\"[{\\'open\\': {\\'day\\': 0, \\'time\\': \\'0000\\'}}]\"]'"
      ]
     },
     "execution_count": 98,
     "metadata": {},
     "output_type": "execute_result"
    }
   ],
   "source": [
    "data['opening_hours_periods'][0]"
   ]
  },
  {
   "cell_type": "code",
   "execution_count": 127,
   "metadata": {},
   "outputs": [
    {
     "name": "stdout",
     "output_type": "stream",
     "text": [
      "[\"[{'author_name': 'Yevgen Chupak', 'author_url': 'https://www.google.com/maps/contrib/115359845398019720660/reviews', 'language': 'en', 'profile_photo_url': 'https://lh5.googleusercontent.com/-pcjZgo8Fedo/AAAAAAAAAAI/AAAAAAAALMw/jzvjbqcty2E/s128-c0x00000000-cc-rp-mo-ba4/photo.jpg', 'rating': 3, 'relative_time_description': '2 weeks ago', 'text': 'Nice place to walk. Not much to see and to do', 'time': 1542439583}, {'author_name': 'Orçun MERT', 'author_url': 'https://www.google.com/maps/contrib/116097876146427007195/reviews', 'language': 'en', 'profile_photo_url': 'https://lh6.googleusercontent.com/-cKMFuQoKqYs/AAAAAAAAAAI/AAAAAAAAB4M/g2XOlTFghUk/s128-c0x00000000-cc-rp-mo-ba3/photo.jpg', 'rating': 5, 'relative_time_description': '6 months ago', 'text': 'We like the hotel. 10 km to city center  but we have a  rented car ao its very easy to us. The rooms are new large and very clean. The price is reasonable', 'time': 1525789433}, {'author_name': 'Shlomi Krasner', 'author_url': 'https://www.google.com/maps/contrib/105723361946947269108/reviews', 'language': 'en', 'profile_photo_url': 'https://lh6.googleusercontent.com/-N3C0jHC3G9U/AAAAAAAAAAI/AAAAAAAAADo/-kCH5C5yoCw/s128-c0x00000000-cc-rp-mo-ba3/photo.jpg', 'rating': 5, 'relative_time_description': 'a week ago', 'text': 'My home away from home', 'time': 1542906987}, {'author_name': 'Robin Christopher Schoss', 'author_url': 'https://www.google.com/maps/contrib/114762337591055293568/reviews', 'language': 'en', 'profile_photo_url': 'https://lh4.googleusercontent.com/-V-VDHjSwnVg/AAAAAAAAAAI/AAAAAAAAD5c/MrKbqZRLEq0/s128-c0x00000000-cc-rp-mo-ba2/photo.jpg', 'rating': 4, 'relative_time_description': '3 months ago', 'text': 'A curious hotel. Great value, clean and generous rooms, yet quite unprofessional staff.', 'time': 1534134171}, {'author_name': 'David Bonello', 'author_url': 'https://www.google.com/maps/contrib/106183333660316620508/reviews', 'language': 'en', 'profile_photo_url': 'https://lh3.googleusercontent.com/-P2NCqKGUQZg/AAAAAAAAAAI/AAAAAAAAAAA/AGDgw-jIxCJO2J4UcJlH5O1lXlH24Sj9iw/s128-c0x00000000-cc-rp-mo-ba3/photo.jpg', 'rating': 4, 'relative_time_description': 'a year ago', 'text': 'Quiet, clean and comfortable. Slightly outside the centre. Ideal if you have your own transport.', 'time': 1507463706}]\"]\n"
     ]
    }
   ],
   "source": [
    "print(data['reviews'][0])"
   ]
  },
  {
   "cell_type": "code",
   "execution_count": 240,
   "metadata": {},
   "outputs": [],
   "source": [
    "def list_parser(query):\n",
    "    pattern = r'^\\[\"(?P<list_>.*)\"\\]$'\n",
    "    result = re.search(pattern, query)\n",
    "    if result:\n",
    "#         return result.group('list_')\n",
    "        return json.loads(\n",
    "            '{\"text\": ' + result.group('list_').replace('\\'', '\"') + ' , \"status\" : \"OK\"}', encoding='utf-8'\n",
    "        )\n",
    "    return result"
   ]
  },
  {
   "cell_type": "code",
   "execution_count": 242,
   "metadata": {},
   "outputs": [],
   "source": [
    "obj = list_parser(data[\"reviews\"][0])"
   ]
  },
  {
   "cell_type": "code",
   "execution_count": 245,
   "metadata": {},
   "outputs": [
    {
     "data": {
      "text/plain": [
       "'Yevgen Chupak'"
      ]
     },
     "execution_count": 245,
     "metadata": {},
     "output_type": "execute_result"
    }
   ],
   "source": [
    "obj['text'][0]['author_name']"
   ]
  },
  {
   "cell_type": "markdown",
   "metadata": {},
   "source": [
    "# Working Time"
   ]
  },
  {
   "cell_type": "code",
   "execution_count": 21,
   "metadata": {},
   "outputs": [
    {
     "name": "stdout",
     "output_type": "stream",
     "text": [
      "(2, 31)\n",
      "Index(['opening_hours_open_now', 'scope', 'reviews', 'types',\n",
      "       'plus_code_global_code', 'geometry_viewport_southwest_lng',\n",
      "       'plus_code_compound_code', 'address_components', 'icon', 'place_id',\n",
      "       'id', 'rating', 'photos', 'international_phone_number', 'url',\n",
      "       'opening_hours_weekday_text', 'geometry_location_lng',\n",
      "       'geometry_viewport_southwest_lat', 'geometry_viewport_northeast_lat',\n",
      "       'opening_hours_periods', 'formatted_address', 'formatted_phone_number',\n",
      "       'utc_offset', 'geometry_location_lat', 'adr_address', 'website',\n",
      "       'price_level', 'vicinity', 'reference',\n",
      "       'geometry_viewport_northeast_lng', 'name'],\n",
      "      dtype='object')\n"
     ]
    },
    {
     "data": {
      "text/html": [
       "<div>\n",
       "<style scoped>\n",
       "    .dataframe tbody tr th:only-of-type {\n",
       "        vertical-align: middle;\n",
       "    }\n",
       "\n",
       "    .dataframe tbody tr th {\n",
       "        vertical-align: top;\n",
       "    }\n",
       "\n",
       "    .dataframe thead th {\n",
       "        text-align: right;\n",
       "    }\n",
       "</style>\n",
       "<table border=\"1\" class=\"dataframe\">\n",
       "  <thead>\n",
       "    <tr style=\"text-align: right;\">\n",
       "      <th></th>\n",
       "      <th>opening_hours_open_now</th>\n",
       "      <th>scope</th>\n",
       "      <th>reviews</th>\n",
       "      <th>types</th>\n",
       "      <th>plus_code_global_code</th>\n",
       "      <th>geometry_viewport_southwest_lng</th>\n",
       "      <th>plus_code_compound_code</th>\n",
       "      <th>address_components</th>\n",
       "      <th>icon</th>\n",
       "      <th>place_id</th>\n",
       "      <th>...</th>\n",
       "      <th>formatted_phone_number</th>\n",
       "      <th>utc_offset</th>\n",
       "      <th>geometry_location_lat</th>\n",
       "      <th>adr_address</th>\n",
       "      <th>website</th>\n",
       "      <th>price_level</th>\n",
       "      <th>vicinity</th>\n",
       "      <th>reference</th>\n",
       "      <th>geometry_viewport_northeast_lng</th>\n",
       "      <th>name</th>\n",
       "    </tr>\n",
       "  </thead>\n",
       "  <tbody>\n",
       "    <tr>\n",
       "      <th>0</th>\n",
       "      <td>['True']</td>\n",
       "      <td>['GOOGLE']</td>\n",
       "      <td>[\"[{'author_name': 'Yevgen Chupak', 'author_ur...</td>\n",
       "      <td>[\"['restaurant', 'point_of_interest', 'food', ...</td>\n",
       "      <td>['9G2GCCVG+JJ']</td>\n",
       "      <td>['30.42499190000001']</td>\n",
       "      <td>['CCVG+JJ Kyiv, Kyiv city, Ukraine']</td>\n",
       "      <td>['[{\\'long_name\\': \\'9В\\', \\'short_name\\': \\'9...</td>\n",
       "      <td>['https://maps.gstatic.com/mapfiles/place_api/...</td>\n",
       "      <td>['ChIJBXnk-RbM1EARU2oObv5PqeA']</td>\n",
       "      <td>...</td>\n",
       "      <td>['044 300 0330']</td>\n",
       "      <td>['120']</td>\n",
       "      <td>['50.4440215']</td>\n",
       "      <td>['&lt;span class=\"street-address\"&gt;Vatslava Havela...</td>\n",
       "      <td>['http://orlypark.com.ua/']</td>\n",
       "      <td>['3']</td>\n",
       "      <td>['Vatslava Havela Boulevard, 9В, Kyiv']</td>\n",
       "      <td>['ChIJBXnk-RbM1EARU2oObv5PqeA']</td>\n",
       "      <td>['30.42900149999999']</td>\n",
       "      <td>['Orly Park']</td>\n",
       "    </tr>\n",
       "    <tr>\n",
       "      <th>1</th>\n",
       "      <td>['True']</td>\n",
       "      <td>['GOOGLE']</td>\n",
       "      <td>['[{\\'author_name\\': \\'Matthew Forster\\', \\'au...</td>\n",
       "      <td>[\"['restaurant', 'point_of_interest', 'food', ...</td>\n",
       "      <td>['9G2GFGC7+2R']</td>\n",
       "      <td>['30.5132813697085']</td>\n",
       "      <td>['FGC7+2R Kyiv, Kyiv city, Ukraine']</td>\n",
       "      <td>['[{\\'long_name\\': \\'35/35\\', \\'short_name\\': ...</td>\n",
       "      <td>['https://maps.gstatic.com/mapfiles/place_api/...</td>\n",
       "      <td>['ChIJ43dtiRTO1EAROneSaINAGXE']</td>\n",
       "      <td>...</td>\n",
       "      <td>['096 424 2424']</td>\n",
       "      <td>['120']</td>\n",
       "      <td>['50.470022']</td>\n",
       "      <td>['&lt;span class=\"street-address\"&gt;Voloska St, 35/...</td>\n",
       "      <td>['http://www.sushi24.ua/']</td>\n",
       "      <td>['2']</td>\n",
       "      <td>['Voloska Street, 35/35, Kyiv']</td>\n",
       "      <td>['ChIJ43dtiRTO1EAROneSaINAGXE']</td>\n",
       "      <td>['30.5159793302915']</td>\n",
       "      <td>['Sushi 24']</td>\n",
       "    </tr>\n",
       "  </tbody>\n",
       "</table>\n",
       "<p>2 rows × 31 columns</p>\n",
       "</div>"
      ],
      "text/plain": [
       "  opening_hours_open_now       scope  \\\n",
       "0               ['True']  ['GOOGLE']   \n",
       "1               ['True']  ['GOOGLE']   \n",
       "\n",
       "                                             reviews  \\\n",
       "0  [\"[{'author_name': 'Yevgen Chupak', 'author_ur...   \n",
       "1  ['[{\\'author_name\\': \\'Matthew Forster\\', \\'au...   \n",
       "\n",
       "                                               types plus_code_global_code  \\\n",
       "0  [\"['restaurant', 'point_of_interest', 'food', ...       ['9G2GCCVG+JJ']   \n",
       "1  [\"['restaurant', 'point_of_interest', 'food', ...       ['9G2GFGC7+2R']   \n",
       "\n",
       "  geometry_viewport_southwest_lng               plus_code_compound_code  \\\n",
       "0           ['30.42499190000001']  ['CCVG+JJ Kyiv, Kyiv city, Ukraine']   \n",
       "1            ['30.5132813697085']  ['FGC7+2R Kyiv, Kyiv city, Ukraine']   \n",
       "\n",
       "                                  address_components  \\\n",
       "0  ['[{\\'long_name\\': \\'9В\\', \\'short_name\\': \\'9...   \n",
       "1  ['[{\\'long_name\\': \\'35/35\\', \\'short_name\\': ...   \n",
       "\n",
       "                                                icon  \\\n",
       "0  ['https://maps.gstatic.com/mapfiles/place_api/...   \n",
       "1  ['https://maps.gstatic.com/mapfiles/place_api/...   \n",
       "\n",
       "                          place_id      ...       formatted_phone_number  \\\n",
       "0  ['ChIJBXnk-RbM1EARU2oObv5PqeA']      ...             ['044 300 0330']   \n",
       "1  ['ChIJ43dtiRTO1EAROneSaINAGXE']      ...             ['096 424 2424']   \n",
       "\n",
       "  utc_offset geometry_location_lat  \\\n",
       "0    ['120']        ['50.4440215']   \n",
       "1    ['120']         ['50.470022']   \n",
       "\n",
       "                                         adr_address  \\\n",
       "0  ['<span class=\"street-address\">Vatslava Havela...   \n",
       "1  ['<span class=\"street-address\">Voloska St, 35/...   \n",
       "\n",
       "                       website price_level  \\\n",
       "0  ['http://orlypark.com.ua/']       ['3']   \n",
       "1   ['http://www.sushi24.ua/']       ['2']   \n",
       "\n",
       "                                  vicinity                        reference  \\\n",
       "0  ['Vatslava Havela Boulevard, 9В, Kyiv']  ['ChIJBXnk-RbM1EARU2oObv5PqeA']   \n",
       "1          ['Voloska Street, 35/35, Kyiv']  ['ChIJ43dtiRTO1EAROneSaINAGXE']   \n",
       "\n",
       "  geometry_viewport_northeast_lng           name  \n",
       "0           ['30.42900149999999']  ['Orly Park']  \n",
       "1            ['30.5159793302915']   ['Sushi 24']  \n",
       "\n",
       "[2 rows x 31 columns]"
      ]
     },
     "execution_count": 21,
     "metadata": {},
     "output_type": "execute_result"
    }
   ],
   "source": [
    "data1 = pd.read_csv(os.path.join(DATA_DIR, 'khreschatyk_new.csv'))\n",
    "print(data1.shape)\n",
    "print(data1.columns)\n",
    "data1"
   ]
  },
  {
   "cell_type": "code",
   "execution_count": 22,
   "metadata": {},
   "outputs": [
    {
     "data": {
      "text/html": [
       "<div>\n",
       "<style scoped>\n",
       "    .dataframe tbody tr th:only-of-type {\n",
       "        vertical-align: middle;\n",
       "    }\n",
       "\n",
       "    .dataframe tbody tr th {\n",
       "        vertical-align: top;\n",
       "    }\n",
       "\n",
       "    .dataframe thead th {\n",
       "        text-align: right;\n",
       "    }\n",
       "</style>\n",
       "<table border=\"1\" class=\"dataframe\">\n",
       "  <thead>\n",
       "    <tr style=\"text-align: right;\">\n",
       "      <th></th>\n",
       "      <th>opening_hours_weekday_text</th>\n",
       "      <th>opening_hours_open_now</th>\n",
       "      <th>opening_hours_periods</th>\n",
       "    </tr>\n",
       "  </thead>\n",
       "  <tbody>\n",
       "    <tr>\n",
       "      <th>0</th>\n",
       "      <td>[\"['Monday: Open 24 hours', 'Tuesday: Open 24 ...</td>\n",
       "      <td>['True']</td>\n",
       "      <td>[\"[{'open': {'day': 0, 'time': '0000'}}]\"]</td>\n",
       "    </tr>\n",
       "    <tr>\n",
       "      <th>1</th>\n",
       "      <td>[\"['Monday: 10:00 AM – 3:00 AM', 'Tuesday: 10:...</td>\n",
       "      <td>['True']</td>\n",
       "      <td>[\"[{'close': {'day': 1, 'time': '0300'}, 'open...</td>\n",
       "    </tr>\n",
       "  </tbody>\n",
       "</table>\n",
       "</div>"
      ],
      "text/plain": [
       "                          opening_hours_weekday_text opening_hours_open_now  \\\n",
       "0  [\"['Monday: Open 24 hours', 'Tuesday: Open 24 ...               ['True']   \n",
       "1  [\"['Monday: 10:00 AM – 3:00 AM', 'Tuesday: 10:...               ['True']   \n",
       "\n",
       "                               opening_hours_periods  \n",
       "0         [\"[{'open': {'day': 0, 'time': '0000'}}]\"]  \n",
       "1  [\"[{'close': {'day': 1, 'time': '0300'}, 'open...  "
      ]
     },
     "execution_count": 22,
     "metadata": {},
     "output_type": "execute_result"
    }
   ],
   "source": [
    "data1[[\n",
    "    'opening_hours_weekday_text',\n",
    "    'opening_hours_open_now',\n",
    "    'opening_hours_periods'\n",
    "]]"
   ]
  },
  {
   "cell_type": "code",
   "execution_count": 30,
   "metadata": {},
   "outputs": [
    {
     "name": "stdout",
     "output_type": "stream",
     "text": [
      "[\"['Monday: Open 24 hours', 'Tuesday: Open 24 hours', 'Wednesday: Open 24 hours', 'Thursday: Open 24 hours', 'Friday: Open 24 hours', 'Saturday: Open 24 hours', 'Sunday: Open 24 hours']\"]\n",
      "----------------------------------------------------------------------------------------------------\n",
      "[\"['Monday: 10:00 AM – 3:00 AM', 'Tuesday: 10:00 AM – 3:00 AM', 'Wednesday: 10:00 AM – 3:00 AM', 'Thursday: 10:00 AM – 3:00 AM', 'Friday: 10:00 AM – 3:00 AM', 'Saturday: 10:00 AM – 3:00 AM', 'Sunday: 10:00 AM – 3:00 AM']\"]\n"
     ]
    }
   ],
   "source": [
    "print(data1.opening_hours_weekday_text[0])\n",
    "print('-' * 100)\n",
    "print(data1.opening_hours_weekday_text[1])"
   ]
  },
  {
   "cell_type": "code",
   "execution_count": null,
   "metadata": {},
   "outputs": [],
   "source": []
  }
 ],
 "metadata": {
  "kernelspec": {
   "display_name": "Python 3",
   "language": "python",
   "name": "python3"
  },
  "language_info": {
   "codemirror_mode": {
    "name": "ipython",
    "version": 3
   },
   "file_extension": ".py",
   "mimetype": "text/x-python",
   "name": "python",
   "nbconvert_exporter": "python",
   "pygments_lexer": "ipython3",
   "version": "3.6.5"
  }
 },
 "nbformat": 4,
 "nbformat_minor": 2
}
